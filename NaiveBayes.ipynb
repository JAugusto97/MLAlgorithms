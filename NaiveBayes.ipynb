{
 "cells": [
  {
   "attachments": {},
   "cell_type": "markdown",
   "id": "28b11325",
   "metadata": {},
   "source": [
    "# Naive Bayes\n",
    "A Naive Bayes classifier is a simple probabilistic classifier based on applying Bayes' theorem with strong (naive) independence assumptions.\n",
    "\n",
    "![Bayes Theorem](http://cstwiki.wtb.tue.nl/images/Bayes_rule.png)\n",
    "\n",
    "Naive Bayes has many variants that assume different distributions from the data. In this notebook we will implement the Gaussian Naive Bayes, which assumes a Gaussian Distribution from the data.\n",
    "\n",
    "Basicly, what changes from the vanilla version, is the way we estimate the probability P(x_i|y) now that x_i is continuous.\n",
    "\n",
    "![Gaussian Formula](https://iq.opengenus.org/content/images/2020/02/Screenshot_6.jpg)\n",
    "\n",
    "Step by Step:\n",
    "* Calculate the occurence of exemples for each class p(y_i)\n",
    "* For each feature on X, estimate it's mean and standard deviation for each class separatly\n",
    "* To predict a new example, calculate it's probability for each class p(x|y_i) and select the argument with the highest probability.\n",
    "\n",
    "![Inference](https://ogrisel.github.io/scikit-learn.org/sklearn-tutorial/_images/math/f936a04ed9ff39ee17b12b68d8782b78016efe44.png)"
   ]
  },
  {
   "cell_type": "code",
   "execution_count": 1,
   "id": "ac9574c2",
   "metadata": {},
   "outputs": [
    {
     "name": "stderr",
     "output_type": "stream",
     "text": [
      "/home/joao/.pyenv/versions/3.8.10/lib/python3.8/site-packages/pandas/compat/__init__.py:120: UserWarning: Could not import the lzma module. Your installed Python is incomplete. Attempting to use lzma compression will result in a RuntimeError.\n",
      "  warnings.warn(msg)\n"
     ]
    }
   ],
   "source": [
    "from sklearn.datasets import load_breast_cancer\n",
    "from sklearn.model_selection import train_test_split\n",
    "from sklearn.naive_bayes import GaussianNB\n",
    "from sklearn.metrics import classification_report, confusion_matrix\n",
    "import numpy as np\n",
    "import pandas as pd"
   ]
  },
  {
   "cell_type": "code",
   "execution_count": 2,
   "id": "fae0e518",
   "metadata": {},
   "outputs": [],
   "source": [
    "X, Y = load_breast_cancer(return_X_y=True)"
   ]
  },
  {
   "cell_type": "code",
   "execution_count": 3,
   "id": "eeb6e41e",
   "metadata": {},
   "outputs": [
    {
     "data": {
      "text/plain": [
       "(569, 30)"
      ]
     },
     "execution_count": 3,
     "metadata": {},
     "output_type": "execute_result"
    }
   ],
   "source": [
    "X.shape"
   ]
  },
  {
   "cell_type": "code",
   "execution_count": 4,
   "id": "79194205",
   "metadata": {
    "scrolled": true
   },
   "outputs": [],
   "source": [
    "X_train, X_test, y_train, y_test = train_test_split(X, Y, train_size=0.7)"
   ]
  },
  {
   "cell_type": "code",
   "execution_count": 5,
   "id": "0e6c93ce",
   "metadata": {},
   "outputs": [],
   "source": [
    "class GaussianNaiveBayes():\n",
    "    def calculate_probability(self, x, mean, stdev):\n",
    "        exponent = np.exp(-((x - mean) ** 2 / (2 * stdev ** 2)))\n",
    "        return (1 / (np.sqrt(2 * np.pi) * stdev)) * exponent\n",
    "\n",
    "    def fit(self, X, Y):\n",
    "        self.mus = {}\n",
    "        self.stds = {}\n",
    "        self.class_freq = {} \n",
    "        for c in set(Y):\n",
    "            self.class_freq[c] = len(Y[Y==c])/len(Y)\n",
    "            self.mus[c] = np.mean(X[Y==c], axis=0)\n",
    "            self.stds[c] = np.std(X[Y==c], axis=0)\n",
    "            \n",
    "    def predict_proba(self, x):\n",
    "        probas = {}\n",
    "        for c in self.class_freq.keys():\n",
    "            mean = self.mus[c]\n",
    "            stdev = self.stds[c]\n",
    "            probas[c] = self.calculate_probability(x, mean, stdev).prod() * self.class_freq[c]\n",
    "#             A more numerically stable approach is to sum the log of both terms:\n",
    "#             probas[c] = np.log(self.calculate_probability(x, mean, stdev).prod()) + np.log(self.class_freq[c])\n",
    "        return probas\n",
    "    \n",
    "    def predict(self, x): \n",
    "        return np.argmax(list(clf.predict_proba(x).values()))"
   ]
  },
  {
   "cell_type": "markdown",
   "id": "e52eca3e",
   "metadata": {},
   "source": [
    "## Implemented Version"
   ]
  },
  {
   "cell_type": "code",
   "execution_count": 6,
   "id": "c4e96e90",
   "metadata": {},
   "outputs": [],
   "source": [
    "clf = GaussianNaiveBayes()\n",
    "clf.fit(X_train, y_train)\n",
    "results = np.array([clf.predict(x) for x in X_test])"
   ]
  },
  {
   "cell_type": "code",
   "execution_count": 7,
   "id": "90fc664a",
   "metadata": {
    "scrolled": false
   },
   "outputs": [
    {
     "name": "stdout",
     "output_type": "stream",
     "text": [
      "              precision    recall  f1-score   support\n",
      "\n",
      "           0       0.92      0.92      0.92        66\n",
      "           1       0.95      0.95      0.95       105\n",
      "\n",
      "    accuracy                           0.94       171\n",
      "   macro avg       0.94      0.94      0.94       171\n",
      "weighted avg       0.94      0.94      0.94       171\n",
      "\n"
     ]
    }
   ],
   "source": [
    "print(classification_report(y_test, results))"
   ]
  },
  {
   "cell_type": "markdown",
   "id": "b251fe3d",
   "metadata": {},
   "source": [
    "## Sklearn's Version"
   ]
  },
  {
   "cell_type": "code",
   "execution_count": 8,
   "id": "c271ab2e",
   "metadata": {},
   "outputs": [],
   "source": [
    "clf_sklearn = GaussianNB()\n",
    "clf_sklearn.fit(X_train, y_train)\n",
    "results_sklearn = clf_sklearn.predict(X_test)"
   ]
  },
  {
   "cell_type": "code",
   "execution_count": 9,
   "id": "473b3052",
   "metadata": {},
   "outputs": [
    {
     "name": "stdout",
     "output_type": "stream",
     "text": [
      "              precision    recall  f1-score   support\n",
      "\n",
      "           0       0.92      0.91      0.92        66\n",
      "           1       0.94      0.95      0.95       105\n",
      "\n",
      "    accuracy                           0.94       171\n",
      "   macro avg       0.93      0.93      0.93       171\n",
      "weighted avg       0.94      0.94      0.94       171\n",
      "\n"
     ]
    }
   ],
   "source": [
    "print(classification_report(y_test, results_sklearn))"
   ]
  }
 ],
 "metadata": {
  "kernelspec": {
   "display_name": "Python 3 (ipykernel)",
   "language": "python",
   "name": "python3"
  },
  "language_info": {
   "codemirror_mode": {
    "name": "ipython",
    "version": 3
   },
   "file_extension": ".py",
   "mimetype": "text/x-python",
   "name": "python",
   "nbconvert_exporter": "python",
   "pygments_lexer": "ipython3",
   "version": "3.8.10"
  }
 },
 "nbformat": 4,
 "nbformat_minor": 5
}
